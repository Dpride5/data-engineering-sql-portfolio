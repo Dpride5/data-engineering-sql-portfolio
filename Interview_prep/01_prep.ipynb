{
 "cells": [
  {
   "cell_type": "code",
   "execution_count": null,
   "id": "23a9b0e7",
   "metadata": {
    "vscode": {
     "languageId": "plaintext"
    }
   },
   "outputs": [],
   "source": [
    "# Top 3 customers\n",
    "\n",
    "SELECT customer_id,\n",
    "sum(total_amount) as total\n",
    "FROM orders\n",
    "WHERE order_date BETWEEN \"2025-04-01\" AND \"2025-04-30\"\n",
    "GROUP BY customer_id\n",
    "ORDER BY total DESC\n",
    "LIMIT 3;"
   ]
  },
  {
   "cell_type": "code",
   "execution_count": null,
   "id": "6de47539",
   "metadata": {
    "vscode": {
     "languageId": "plaintext"
    }
   },
   "outputs": [],
   "source": [
    "# Running total per employee\n",
    "(Running totals require window functions)\n",
    "\n",
    "SELECT employee_id,\n",
    "work_date,\n",
    "hours_worked,\n",
    "SUM(hours_worked) OVER (\n",
    "    PARTITION BY employee_id\n",
    "    ORDER BY work_date\n",
    ") AS running_hours\n",
    "\n",
    "FROM timesheets;\n"
   ]
  },
  {
   "cell_type": "code",
   "execution_count": null,
   "id": "cefec4f2",
   "metadata": {
    "vscode": {
     "languageId": "plaintext"
    }
   },
   "outputs": [],
   "source": [
    "# LEFT (Anti Joins)\n",
    "SELECT a.order_id\n",
    "FROM orders as a\n",
    "LEFT JOIN payments as b ON a.order_id = b.order_id\n",
    "b.payment_id IS NULL;"
   ]
  }
 ],
 "metadata": {
  "language_info": {
   "name": "python"
  }
 },
 "nbformat": 4,
 "nbformat_minor": 5
}
