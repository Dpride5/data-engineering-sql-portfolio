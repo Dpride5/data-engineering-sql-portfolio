{
 "cells": [
  {
   "cell_type": "code",
   "execution_count": null,
   "id": "792ad7ee",
   "metadata": {
    "vscode": {
     "languageId": "plaintext"
    }
   },
   "outputs": [],
   "source": [
    "# Wednesday, May 21, 2025\n",
    "# Medium SQL Question - Determine 2nd highest salary among employees\n",
    "\n",
    "WITH salary_rank AS (\n",
    "    SELECT\n",
    "        employee_id,\n",
    "        name,\n",
    "        salary,\n",
    "        department_id,\n",
    "        manager_id,\n",
    "        ROW_NUMBER() OVER (\n",
    "            PARTITION BY department_id\n",
    "            ORDER BY salary DESC\n",
    "        ) AS row_number_col      -- 1 = highest, 2 = second-highest\n",
    "    FROM employee\n",
    ")\n",
    "SELECT salary as second_highest_salary\n",
    "FROM salary_rank\n",
    "WHERE row_number_col = 2\n",
    "ORDER BY salary DESC\n",
    "LIMIT 1;\n",
    "\n",
    "# Issues I ran into\n",
    "# - RANK() skips numbers if there are ties in salary column / Row_number() is better for that\n",
    "# - Setting row_number_col = 2 to get the 2nd highest / ORDER BY and LIMIT just to be sure"
   ]
  }
 ],
 "metadata": {
  "language_info": {
   "name": "python"
  }
 },
 "nbformat": 4,
 "nbformat_minor": 5
}
